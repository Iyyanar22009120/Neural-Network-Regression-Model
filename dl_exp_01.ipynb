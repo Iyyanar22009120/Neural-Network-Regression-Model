{
  "nbformat": 4,
  "nbformat_minor": 0,
  "metadata": {
    "colab": {
      "provenance": []
    },
    "kernelspec": {
      "name": "python3",
      "display_name": "Python 3"
    },
    "language_info": {
      "name": "python"
    }
  },
  "cells": [
    {
      "cell_type": "code",
      "source": [
        "import torch\n",
        "import torch.nn as nn\n",
        "import torch.optim as optim\n",
        "import pandas as pd\n",
        "from sklearn.model_selection import train_test_split\n",
        "from sklearn.preprocessing import MinMaxScaler"
      ],
      "metadata": {
        "id": "9Ft9arOjItYk"
      },
      "execution_count": null,
      "outputs": []
    },
    {
      "cell_type": "code",
      "source": [
        "dataset1 = pd.read_csv('io.csv')\n",
        "X = dataset1[['Input']].values\n",
        "y = dataset1[['Output']].values\n"
      ],
      "metadata": {
        "id": "H5KJVmm4ItSp"
      },
      "execution_count": null,
      "outputs": []
    },
    {
      "cell_type": "code",
      "source": [
        "X_train, X_test, y_train, y_test = train_test_split(X, y, test_size=0.33, random_state=33)"
      ],
      "metadata": {
        "id": "xwXyeauvItNX"
      },
      "execution_count": null,
      "outputs": []
    },
    {
      "cell_type": "code",
      "source": [
        "scaler = MinMaxScaler()\n",
        "X_train = scaler.fit_transform(X_train)\n",
        "X_test = scaler.transform(X_test)"
      ],
      "metadata": {
        "id": "V6jBTEm_ItIm"
      },
      "execution_count": null,
      "outputs": []
    },
    {
      "cell_type": "code",
      "source": [
        "X_train_tensor = torch.tensor(X_train, dtype=torch.float32)\n",
        "y_train_tensor = torch.tensor(y_train, dtype=torch.float32).view(-1, 1)\n",
        "X_test_tensor = torch.tensor(X_test, dtype=torch.float32)\n",
        "y_test_tensor = torch.tensor(y_test, dtype=torch.float32).view(-1, 1)"
      ],
      "metadata": {
        "id": "emQRVftNItDZ"
      },
      "execution_count": null,
      "outputs": []
    },
    {
      "cell_type": "code",
      "source": [
        "class NeuralNet(nn.Module):\n",
        "  def __init__(self):\n",
        "        super().__init__()\n",
        "        class NeuralNet(nn.Module):\n",
        "          self.fc1 = nn. Linear (1, 4)\n",
        "          self.fc2 = nn. Linear (4, 2)\n",
        "          self.fc3 = nn. Linear (2, 1)\n",
        "          self.relu = nn. ReLU()\n",
        "          self.history = {'loss': []}\n",
        "  def forward(self, x):\n",
        "    x = self.relu(self.fc1(x))\n",
        "    x = self.relu(self.fc2(x))\n",
        "    x = self. fc3(x)\n",
        "    return x"
      ],
      "metadata": {
        "id": "5p9gI2_KIs-a"
      },
      "execution_count": null,
      "outputs": []
    },
    {
      "cell_type": "code",
      "source": [
        "ai_brain = NeuralNet ()\n",
        "criterion = nn. MSELoss ()\n",
        "optimizer = optim.RMSprop (ai_brain. parameters(), lr=0.001)\n"
      ],
      "metadata": {
        "id": "ljVi36sNI9Wv"
      },
      "execution_count": null,
      "outputs": []
    },
    {
      "cell_type": "code",
      "source": [
        "def train_model(ai_brain, X_train, y_train, criterion, optimizer, epochs=2000) :\n",
        "  for epoch in range (epochs) :\n",
        "    optimizer. zero_grad()\n",
        "    loss = criterion(ai_brain(X_train), y_train)\n",
        "    loss. backward()\n",
        "    optimizer.step()\n",
        "    ai_brain. history['loss'] .append(loss.item())\n",
        "    if epoch % 200 == 0:\n",
        "      print(f'Epoch [{epoch}/{epochs}], Loss: {loss.item():.6f}')"
      ],
      "metadata": {
        "id": "VPG1wkVtIs5k"
      },
      "execution_count": null,
      "outputs": []
    },
    {
      "cell_type": "code",
      "source": [
        " train_model(ai_brain, X_train_tensor, y_train_tensor, criterion, optimizer)\n"
      ],
      "metadata": {
        "colab": {
          "base_uri": "https://localhost:8080/"
        },
        "id": "ZiLJDzVYIs0a",
        "outputId": "a6878334-cd31-4500-8080-a0387be37b33"
      },
      "execution_count": null,
      "outputs": [
        {
          "output_type": "stream",
          "name": "stdout",
          "text": [
            "Epoch [0/2000], Loss: 3315.399902\n",
            "Epoch [200/2000], Loss: 3199.881104\n",
            "Epoch [400/2000], Loss: 3060.445801\n",
            "Epoch [600/2000], Loss: 2844.128418\n",
            "Epoch [800/2000], Loss: 2541.882324\n",
            "Epoch [1000/2000], Loss: 2169.513184\n",
            "Epoch [1200/2000], Loss: 1748.061768\n",
            "Epoch [1400/2000], Loss: 1312.786255\n",
            "Epoch [1600/2000], Loss: 912.369080\n",
            "Epoch [1800/2000], Loss: 603.247375\n"
          ]
        }
      ]
    },
    {
      "cell_type": "code",
      "source": [
        "with torch.no_grad():\n",
        "    test_loss = criterion(ai_brain(X_test_tensor), y_test_tensor)\n",
        "    print(f'Test Loss: {test_loss.item():.6f}')"
      ],
      "metadata": {
        "colab": {
          "base_uri": "https://localhost:8080/"
        },
        "id": "fMx3CaDCIsva",
        "outputId": "602814a3-d04e-4536-a14c-1699bd43d31a"
      },
      "execution_count": null,
      "outputs": [
        {
          "output_type": "stream",
          "name": "stdout",
          "text": [
            "Test Loss: 625.362000\n"
          ]
        }
      ]
    },
    {
      "cell_type": "code",
      "source": [
        "loss_df = pd.DataFrame(ai_brain.history)"
      ],
      "metadata": {
        "id": "h_VjkKG0Isqx"
      },
      "execution_count": null,
      "outputs": []
    },
    {
      "cell_type": "code",
      "source": [
        "#IYY\n",
        "import matplotlib.pyplot as plt\n",
        "loss_df.plot()\n",
        "plt.xlabel(\"Epochs\")\n",
        "plt.ylabel(\"Loss\")\n",
        "plt.title(\"Loss during Training\")\n",
        "plt.show()"
      ],
      "metadata": {
        "colab": {
          "base_uri": "https://localhost:8080/",
          "height": 472
        },
        "id": "a41D-Cn2Isls",
        "outputId": "bf45f76b-907a-4988-8b29-e5af59fa76cf"
      },
      "execution_count": null,
      "outputs": [
        {
          "output_type": "display_data",
          "data": {
            "text/plain": [
              "<Figure size 640x480 with 1 Axes>"
            ],
            "image/png": "[encoded data removed]"
          },
          "metadata": {}
        }
      ]
    },
    {
      "cell_type": "code",
      "source": [
        "X_n1_1 = torch.tensor([[9]], dtype=torch.float32)\n",
        "prediction = ai_brain(torch.tensor(scaler.transform(X_n1_1), dtype=torch.float32)).item()\n",
        "print(f'Prediction: {prediction}')"
      ],
      "metadata": {
        "colab": {
          "base_uri": "https://localhost:8080/"
        },
        "id": "oXJPzN4_Isg2",
        "outputId": "28d83e96-eac8-4eb2-f33b-d2b2966a14da"
      },
      "execution_count": null,
      "outputs": [
        {
          "output_type": "stream",
          "name": "stdout",
          "text": [
            "Prediction: 46.05549621582031\n"
          ]
        }
      ]
    }
  ]
}